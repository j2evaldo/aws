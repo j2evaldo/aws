{
 "cells": [
  {
   "cell_type": "markdown",
   "id": "9ca0c0c9-a0f1-4a1e-8333-be7b5ba9f23a",
   "metadata": {},
   "source": [
    "## **DOWNLOAD DE ARQUIVOS DO S3**"
   ]
  },
  {
   "cell_type": "markdown",
   "id": "eedc66a9-03ec-453f-b310-8a8e87c1f534",
   "metadata": {},
   "source": [
    "Nunca esquecer de fazer o importo da biblioteca boto3. É com ela que farei a intereção com meu servidor S3"
   ]
  },
  {
   "cell_type": "code",
   "execution_count": 11,
   "id": "c94a3895-78db-4e4d-82be-9df9320f581e",
   "metadata": {},
   "outputs": [],
   "source": [
    "# Importando biblioteca de que faz interface \n",
    "# entre python e S3\n",
    "import boto3"
   ]
  },
  {
   "cell_type": "code",
   "execution_count": 8,
   "id": "4e6a01b6-5401-4be9-8ea1-bf0e47338349",
   "metadata": {},
   "outputs": [],
   "source": [
    "# Definindo o nome do Bucket onde farei o Download do arquivo\n",
    "bucket = 'codigoevaldo'\n",
    "s3 = boto3.resource('s3')"
   ]
  },
  {
   "cell_type": "code",
   "execution_count": 10,
   "id": "3b81e61c-f2f4-48a4-a398-89116d9fc628",
   "metadata": {},
   "outputs": [],
   "source": [
    "'''\n",
    "    Realizando o Download do Arquivo \n",
    "    1 - Passa nome do arquivo\n",
    "    2 - Informa nome do arquivo após o Download\n",
    "'''\n",
    "s3.Bucket(bucket).download_file('arquivos/digit.png', 'dowload_imagem.png')"
   ]
  },
  {
   "cell_type": "code",
   "execution_count": null,
   "id": "7d16b746-ee23-484e-8ca4-dc1d3c2ed6ae",
   "metadata": {},
   "outputs": [],
   "source": []
  }
 ],
 "metadata": {
  "instance_type": "ml.t3.medium",
  "kernelspec": {
   "display_name": "Python 3 (Data Science)",
   "language": "python",
   "name": "python3__SAGEMAKER_INTERNAL__arn:aws:sagemaker:us-east-1:081325390199:image/datascience-1.0"
  },
  "language_info": {
   "codemirror_mode": {
    "name": "ipython",
    "version": 3
   },
   "file_extension": ".py",
   "mimetype": "text/x-python",
   "name": "python",
   "nbconvert_exporter": "python",
   "pygments_lexer": "ipython3",
   "version": "3.7.10"
  }
 },
 "nbformat": 4,
 "nbformat_minor": 5
}
