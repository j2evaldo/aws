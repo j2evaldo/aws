{
 "cells": [
  {
   "cell_type": "markdown",
   "id": "a6c113ac-38ac-4bf8-b506-acdaffc853c1",
   "metadata": {},
   "source": [
    "## **IMPORTANDO BIBLIOTECAS**"
   ]
  },
  {
   "cell_type": "code",
   "execution_count": 2,
   "id": "f7b8b17d-c6ea-49b5-b67c-68e1cc6a51db",
   "metadata": {},
   "outputs": [],
   "source": [
    "# Biblioteca de integração do Python com o SageMaker\n",
    "import boto3\n",
    "from sagemaker.s3 import S3Uploader #Classe que envia os arquvios para o S3"
   ]
  },
  {
   "cell_type": "code",
   "execution_count": 3,
   "id": "aa742930-bc8e-4d00-a2c0-5bcf945d419c",
   "metadata": {},
   "outputs": [],
   "source": [
    "session = boto3.Session()"
   ]
  },
  {
   "cell_type": "code",
   "execution_count": 4,
   "id": "b4331cee-b3ad-499a-9c06-6bcce26aa944",
   "metadata": {},
   "outputs": [
    {
     "data": {
      "text/plain": [
       "'us-east-1'"
      ]
     },
     "execution_count": 4,
     "metadata": {},
     "output_type": "execute_result"
    }
   ],
   "source": [
    "# veriricando a região onde estou conectado\n",
    "session.region_name"
   ]
  },
  {
   "cell_type": "markdown",
   "id": "1834dd13-bad4-4b11-ba66-3580ec55df6e",
   "metadata": {},
   "source": [
    "## **CRIANDO BUCKET PARA ENVIO DOS ARQUIVOS**"
   ]
  },
  {
   "cell_type": "code",
   "execution_count": 5,
   "id": "3d22bf96-136c-4f0c-81ec-ff55f688eb47",
   "metadata": {},
   "outputs": [],
   "source": [
    "bucket = 'codigoevaldo'\n"
   ]
  },
  {
   "cell_type": "code",
   "execution_count": 6,
   "id": "261e0caf-56c5-439c-b260-a0e06de3047a",
   "metadata": {},
   "outputs": [
    {
     "data": {
      "text/plain": [
       "{'ResponseMetadata': {'RequestId': 'SVS2J7N26H8D6GVX',\n",
       "  'HostId': 'x9gBbwpyUv1DozXR/ok6B0AlZEr4WG5xmBbL3FbjbZxNi+cKXDWXr9cIYEvgV9ejtFEYxcB81ahjPvo9RBKy9g==',\n",
       "  'HTTPStatusCode': 200,\n",
       "  'HTTPHeaders': {'x-amz-id-2': 'x9gBbwpyUv1DozXR/ok6B0AlZEr4WG5xmBbL3FbjbZxNi+cKXDWXr9cIYEvgV9ejtFEYxcB81ahjPvo9RBKy9g==',\n",
       "   'x-amz-request-id': 'SVS2J7N26H8D6GVX',\n",
       "   'date': 'Fri, 14 Oct 2022 15:04:14 GMT',\n",
       "   'location': '/codigoevaldo',\n",
       "   'server': 'AmazonS3',\n",
       "   'content-length': '0'},\n",
       "  'RetryAttempts': 0},\n",
       " 'Location': '/codigoevaldo'}"
      ]
     },
     "execution_count": 6,
     "metadata": {},
     "output_type": "execute_result"
    }
   ],
   "source": [
    "session.client('s3').create_bucket(Bucket = bucket)"
   ]
  },
  {
   "cell_type": "markdown",
   "id": "9ab23508-870e-4a24-9d07-bd3002f8072e",
   "metadata": {},
   "source": [
    "### **ENVIANDO ARQUIVOS PARA O S3**"
   ]
  },
  {
   "cell_type": "code",
   "execution_count": 7,
   "id": "7ffabe1e-7b46-4ffc-8c1d-6911f5cf3815",
   "metadata": {},
   "outputs": [],
   "source": [
    "subpasta = 'arquivos'"
   ]
  },
  {
   "cell_type": "code",
   "execution_count": 8,
   "id": "faa53565-94e4-4b04-b40a-31f79a2d8689",
   "metadata": {},
   "outputs": [
    {
     "name": "stdout",
     "output_type": "stream",
     "text": [
      "S3://codigoevaldo/arquivos\n"
     ]
    }
   ],
   "source": [
    "# Cuidar sempre para colocar o caminho correto\n",
    "caminho = f'S3://{bucket}/{subpasta}'\n",
    "print(caminho)"
   ]
  },
  {
   "cell_type": "code",
   "execution_count": 9,
   "id": "fb94494f-0fed-4431-97e8-ffcebdcb7db8",
   "metadata": {},
   "outputs": [
    {
     "name": "stdout",
     "output_type": "stream",
     "text": [
      "s3://codigoevaldo/arquivos/digit.png\n"
     ]
    }
   ],
   "source": [
    "s3Imagem = S3Uploader.upload('digit.png', caminho)\n",
    "print(s3Imagem)"
   ]
  },
  {
   "cell_type": "code",
   "execution_count": null,
   "id": "925fde88-40f6-4ba7-9e08-57d9953fbc43",
   "metadata": {},
   "outputs": [],
   "source": []
  },
  {
   "cell_type": "code",
   "execution_count": null,
   "id": "1476bdbb-e738-4b66-9b8f-b62d3e31175b",
   "metadata": {},
   "outputs": [],
   "source": []
  },
  {
   "cell_type": "code",
   "execution_count": null,
   "id": "89a31468-3a51-4c0e-98d0-bfc4def85e25",
   "metadata": {},
   "outputs": [],
   "source": []
  }
 ],
 "metadata": {
  "instance_type": "ml.t3.medium",
  "kernelspec": {
   "display_name": "Python 3 (Data Science)",
   "language": "python",
   "name": "python3__SAGEMAKER_INTERNAL__arn:aws:sagemaker:us-east-1:081325390199:image/datascience-1.0"
  },
  "language_info": {
   "codemirror_mode": {
    "name": "ipython",
    "version": 3
   },
   "file_extension": ".py",
   "mimetype": "text/x-python",
   "name": "python",
   "nbconvert_exporter": "python",
   "pygments_lexer": "ipython3",
   "version": "3.7.10"
  }
 },
 "nbformat": 4,
 "nbformat_minor": 5
}
